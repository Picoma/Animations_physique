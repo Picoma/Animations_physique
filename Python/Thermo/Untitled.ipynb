{
 "cells": [
  {
   "cell_type": "markdown",
   "metadata": {},
   "source": [
    "# VanderWaals.py : Simulation du diagramme PV d'un gaz de Van der Waals\n",
    "- François Lévrier, Emmanuel Baudin, Arnaud Raoux et la prépa agreg de Montrouge\n",
    "> Departement de physique de l'Ecole Normale Superieure\n",
    ">\n",
    "> 24 rue Lhomond\n",
    ">\n",
    "> 75005 Paris\n",
    ">\n",
    "> arnaud.raoux@ens.fr\n",
    "\n",
    "- Adapté par Pierre Hanzal, prépa de l'université de Bordeaux.\n",
    "> Lien vers l'original\n",
    "\n",
    "----------\n",
    "\n",
    "### Licence\n",
    "![http://creativecommons.org/licenses/by-sa/4.0/](https://i.creativecommons.org/l/by-sa/4.0/88x31.png)\n",
    "\n",
    "Cette oeuvre, création, site ou texte est mise à disposition selon les termes de la [Licence Creative Commons Attribution -  Partage dans les Mêmes Conditions 4.0 International](http://creativecommons.org/licenses/by-sa/4.0/).\n",
    "\n",
    "----------\n",
    "\n",
    "### Description :\n",
    "Ce programme représente le diagramme PV en unités réduite d'un fluide respectant l'équation d'état de Van der Waals. les références de température, pression et volume sont prises au point critique. Le diagramme trace les courbes isothermes ains que les courbes spinodales et courbes de saturation."
   ]
  },
  {
   "cell_type": "code",
   "execution_count": null,
   "metadata": {},
   "outputs": [],
   "source": [
    "#Auteurs : François Lévrier, Emmanuel Baudin, Arnaud Raoux et la prépa agreg de Montrouge\n",
    "#Adresse : Departement de physique de l'Ecole Normale Superieure\n",
    "#\t\t24 rue Lhomond\n",
    "#\t\t75005 Paris\n",
    "#Contact : arnaud.raoux@ens.fr\n",
    "#\n",
    "#Année de création : 2016\n",
    "#Version : 1.10\n",
    "\n",
    "#Liste des modifications\n",
    "#v 1.00 : 2016-05-02 Première version complète\n",
    "#v 1.10 : 2016-05-02 Mise à jour de la mise en page\n",
    "\n",
    "#LICENCE\n",
    "#Cette oeuvre, création, site ou texte est sous licence Creative Commons Attribution - Pas d'Utilisation Commerciale 4.0 International. Pour accéder à une copie de cette licence, merci de vous rendre à l'adresse suivante http://creativecommons.org/licenses/by-nc/4.0/ ou envoyez un courrier à Creative Commons, 444 Castro Street, Suite 900, Mountain View, California, 94041, USA.\n",
    "\n",
    "#Description :\n",
    "#Ce programme représente le diagramme PV en unités réduite d'un fluide respectant l'équation d'état de Van der Waals. les références de température, pression et volume sont prises au point critique. Le diagramme trace les courbes isothermes ains que les courbes spinodales et courbes de saturation."
   ]
  }
 ],
 "metadata": {
  "kernelspec": {
   "display_name": "Python 3",
   "language": "python",
   "name": "python3"
  },
  "language_info": {
   "codemirror_mode": {
    "name": "ipython",
    "version": 3
   },
   "file_extension": ".py",
   "mimetype": "text/x-python",
   "name": "python",
   "nbconvert_exporter": "python",
   "pygments_lexer": "ipython3",
   "version": "3.6.9"
  }
 },
 "nbformat": 4,
 "nbformat_minor": 2
}
