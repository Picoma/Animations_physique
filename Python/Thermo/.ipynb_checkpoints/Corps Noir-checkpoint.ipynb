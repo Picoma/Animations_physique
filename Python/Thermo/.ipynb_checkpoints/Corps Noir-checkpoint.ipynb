{
 "cells": [
  {
   "cell_type": "code",
   "execution_count": 1,
   "metadata": {},
   "outputs": [
    {
     "name": "stdout",
     "output_type": "stream",
     "text": [
      "Populating the interactive namespace from numpy and matplotlib\n"
     ]
    }
   ],
   "source": [
    "%pylab inline\n",
    "from scipy.constants import c,h,k\n",
    "from ipywidgets import interact\n",
    "from matplotlib import patches "
   ]
  },
  {
   "cell_type": "code",
   "execution_count": 2,
   "metadata": {},
   "outputs": [],
   "source": [
    "# Je suis bigleux\n",
    "matplotlib.rcParams['figure.dpi'] = 140"
   ]
  },
  {
   "cell_type": "code",
   "execution_count": 3,
   "metadata": {},
   "outputs": [],
   "source": [
    "def L(λ,T):\n",
    "    \"\"\"Renvoie la luminance énergétique spectrale, pour une température et une longueur d'onde donnée\"\"\"\n",
    "    return(2*h*c**2/λ**5 * (exp(h*c/(λ*k*T))-1)**-1 )"
   ]
  },
  {
   "cell_type": "markdown",
   "metadata": {},
   "source": [
    "# Affichage interactif"
   ]
  },
  {
   "cell_type": "code",
   "execution_count": 7,
   "metadata": {
    "scrolled": false
   },
   "outputs": [
    {
     "data": {
      "application/vnd.jupyter.widget-view+json": {
       "model_id": "34c9f0aa97e5449d88cd518888744439",
       "version_major": 2,
       "version_minor": 0
      },
      "text/plain": [
       "interactive(children=(IntSlider(value=3500, description='T', max=5000, min=2500, step=500), Output()), _dom_cl…"
      ]
     },
     "metadata": {},
     "output_type": "display_data"
    }
   ],
   "source": [
    "@interact(T=(2500,5000,500))\n",
    "def affichage(T):\n",
    "    gcf().clear()\n",
    "    \n",
    "    λ=linspace(1e-8,3e-6,200)\n",
    "    Lum=L(λ,T)\n",
    "    plot(λ*1e9,Lum*1e-12)\n",
    "    \n",
    "    xlabel(\"Longueur d'onde (nm)\")\n",
    "    ylabel(\"LES (kW sr^-1 m^-2 nm^-1)\")\n",
    "    \n",
    "    xlim(0,3e3)\n",
    "    ylim(0,15)\n",
    "    \n",
    "    grid()\n",
    "    axvline(λ[Lum==Lum.max()]*1e9,\n",
    "            color=\"black\",\n",
    "            linestyle=\"--\")\n",
    "    \n",
    "    gca().add_patch(patches.Rectangle((400,0),400,16,color=\"grey\",alpha=0.5))"
   ]
  },
  {
   "cell_type": "code",
   "execution_count": null,
   "metadata": {},
   "outputs": [],
   "source": []
  }
 ],
 "metadata": {
  "kernelspec": {
   "display_name": "Python 3",
   "language": "python",
   "name": "python3"
  },
  "language_info": {
   "codemirror_mode": {
    "name": "ipython",
    "version": 3
   },
   "file_extension": ".py",
   "mimetype": "text/x-python",
   "name": "python",
   "nbconvert_exporter": "python",
   "pygments_lexer": "ipython3",
   "version": "3.6.9"
  }
 },
 "nbformat": 4,
 "nbformat_minor": 2
}
