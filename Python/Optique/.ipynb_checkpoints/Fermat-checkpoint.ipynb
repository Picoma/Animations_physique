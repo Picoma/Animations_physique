{
 "cells": [
  {
   "cell_type": "markdown",
   "metadata": {},
   "source": [
    "# Fermat version basique"
   ]
  },
  {
   "cell_type": "markdown",
   "metadata": {},
   "source": [
    "Calcul du temps de parcours entre 2 points A et B appartenant à des milieux de vitesse de propagation v1 et v2,  en faisant varier le point d'impact lors du changement de milieu\n",
    "\n",
    "Utilisation de widgets interactifs\n"
   ]
  },
  {
   "cell_type": "code",
   "execution_count": 1,
   "metadata": {},
   "outputs": [],
   "source": [
    "from ipywidgets import interact, FloatSlider\n",
    "import numpy as np\n",
    "import pylab as plt\n",
    "import matplotlib.patches as patches"
   ]
  },
  {
   "cell_type": "code",
   "execution_count": 2,
   "metadata": {},
   "outputs": [],
   "source": [
    "plt.rcParams['figure.figsize'] = 15, 8  #default image size for this interactive session"
   ]
  },
  {
   "cell_type": "code",
   "execution_count": 3,
   "metadata": {},
   "outputs": [],
   "source": [
    "def tparcours(x):\n",
    "    AI = np.sqrt((xA-x)**2+yA**2)\n",
    "    BI = np.sqrt((xB-x)**2+yB**2)\n",
    "    return AI/v1+BI/v2\n",
    "xI_liste = np.linspace(-2,2,200)\n",
    "xA,yA = -1,1\n",
    "xB,yB = 1,-1\n",
    "v1, v2 = 1, 2\n",
    "t_ensemble = tparcours(xI_liste)"
   ]
  },
  {
   "cell_type": "code",
   "execution_count": 4,
   "metadata": {},
   "outputs": [],
   "source": [
    "def fermat(xIc): \n",
    "    fig = plt.figure()\n",
    "    ax1 = fig.add_subplot(121)\n",
    "    ax1.add_patch(patches.Rectangle((-2, -1), 4, 1,facecolor='grey',alpha=0.5))\n",
    "    ax1.plot([xA,xIc,xB], [yA,0,yB],'-ok',ms=12)\n",
    "    ax1.plot([xIc],[0],'or',ms=12)\n",
    "    ax1.set_xlim(-2.1,2.1)\n",
    "        \n",
    "    ax2 = fig.add_subplot(122)\n",
    "    ax2.plot(xI_liste,t_ensemble,'b')\n",
    "    ax2.plot([xIc],[tparcours(xIc)],'or',ms=12)\n",
    "    plt.show()"
   ]
  },
  {
   "cell_type": "code",
   "execution_count": 5,
   "metadata": {},
   "outputs": [
    {
     "data": {
      "application/vnd.jupyter.widget-view+json": {
       "model_id": "11856632fc904062ab0f9821ec5122ca",
       "version_major": 2,
       "version_minor": 0
      },
      "text/plain": [
       "interactive(children=(FloatSlider(value=0.0, continuous_update=False, description='xIc', max=2.0, min=-2.0), O…"
      ]
     },
     "metadata": {},
     "output_type": "display_data"
    },
    {
     "data": {
      "text/plain": [
       "<function __main__.fermat(xIc)>"
      ]
     },
     "execution_count": 5,
     "metadata": {},
     "output_type": "execute_result"
    }
   ],
   "source": [
    "interact(fermat, xIc=FloatSlider(min=-2, max=2, step=0.1,continuous_update=False))"
   ]
  },
  {
   "cell_type": "code",
   "execution_count": null,
   "metadata": {},
   "outputs": [],
   "source": []
  }
 ],
 "metadata": {
  "kernelspec": {
   "display_name": "Python 3",
   "language": "python",
   "name": "python3"
  },
  "language_info": {
   "codemirror_mode": {
    "name": "ipython",
    "version": 3
   },
   "file_extension": ".py",
   "mimetype": "text/x-python",
   "name": "python",
   "nbconvert_exporter": "python",
   "pygments_lexer": "ipython3",
   "version": "3.6.9"
  },
  "varInspector": {
   "cols": {
    "lenName": 16,
    "lenType": 16,
    "lenVar": 40
   },
   "kernels_config": {
    "python": {
     "delete_cmd_postfix": "",
     "delete_cmd_prefix": "del ",
     "library": "var_list.py",
     "varRefreshCmd": "print(var_dic_list())"
    },
    "r": {
     "delete_cmd_postfix": ") ",
     "delete_cmd_prefix": "rm(",
     "library": "var_list.r",
     "varRefreshCmd": "cat(var_dic_list()) "
    }
   },
   "types_to_exclude": [
    "module",
    "function",
    "builtin_function_or_method",
    "instance",
    "_Feature"
   ],
   "window_display": false
  },
  "widgets": {
   "state": {
    "0a2c28334afd41cc9ba7398ce814e44b": {
     "views": [
      {
       "cell_index": 6
      }
     ]
    },
    "732e31c889b64236bd302dddbdf2bca2": {
     "views": [
      {
       "cell_index": 4
      }
     ]
    }
   },
   "version": "1.2.0"
  }
 },
 "nbformat": 4,
 "nbformat_minor": 4
}
