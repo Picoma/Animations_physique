{
 "cells": [
  {
   "cell_type": "code",
   "execution_count": 66,
   "metadata": {
    "scrolled": true
   },
   "outputs": [
    {
     "name": "stdout",
     "output_type": "stream",
     "text": [
      "Using matplotlib backend: TkAgg\n",
      "Populating the interactive namespace from numpy and matplotlib\n"
     ]
    }
   ],
   "source": [
    "%pylab\n",
    "from matplotlib import patches"
   ]
  },
  {
   "cell_type": "markdown",
   "metadata": {},
   "source": [
    "# Principe\n",
    "Illustration de la trajectoire d'un rayon en milieu inhomogène par la méthode des matrices ABCD (hors programme). Application à un mirage.\n",
    "\n",
    "Pourquoi les matrices ABCD ? Parce que le formalisme permet un calcul simple de la trajectoire dans le cas d'un milieu inhomogène. Plus précisément, on peut écrire :\n",
    "$$\\begin{pmatrix} r_{n+1} \\\\ \\dot{r_{n+1}} \\end{pmatrix} = M_{n\\rightarrow{}n+1}\n",
    "\\begin{pmatrix} r_{n} \\\\ \\dot{r_{n}} \\end{pmatrix}$$\n",
    "Ainsi, on propage à partir d'une incidence et d'une hauteur initiale, avoir l'allure complète du rayon en présence d'un gradient d'indice "
   ]
  },
  {
   "cell_type": "code",
   "execution_count": 142,
   "metadata": {},
   "outputs": [],
   "source": [
    "def get_n(z) :\n",
    "    \"\"\"Génère l'indice optique à une altitude donnée. Fonction mathématique arbitraire.\"\"\"\n",
    "    #g=0.25\n",
    "    g=0\n",
    "    n0=1\n",
    "    return((g*z)+n0)\n",
    "\n",
    "def propagation(rayon,z):\n",
    "    n_act=get_n(z)\n",
    "    \n",
    "    # Matrice de propagation\n",
    "    Mt=np.array([[1,dz],[0,1]])\n",
    "    rayon_av_dioptre=Mt@rayon\n",
    "    n_suiv=get_n(z+dz)\n",
    "    \n",
    "    # Matrice dioptre:\n",
    "    Md=np.array([[1,0],[0,n_act/n_suiv]])\n",
    "    return(Md@rayon_av_dioptre)"
   ]
  },
  {
   "cell_type": "code",
   "execution_count": 143,
   "metadata": {},
   "outputs": [],
   "source": [
    "# Données de simulation\n",
    "L=100  # dimension de discrétisation\n",
    "N=1000 # Nombre de cellules d'espace\n",
    "dz=L/N\n",
    "\n",
    "x0=0  # Position initiale\n",
    "dx0=tan(pi/2 - 0.1) # Incidence initiale\n",
    "\n",
    "nact=nsuiv=1"
   ]
  },
  {
   "cell_type": "code",
   "execution_count": 144,
   "metadata": {
    "scrolled": true
   },
   "outputs": [],
   "source": [
    "x=np.zeros(N)\n",
    "\n",
    "rayon=np.array([x0,dx0]) # rayon initial ; i=0\n",
    "\n",
    "for i in range(N):\n",
    "    x[i]=rayon[0]\n",
    "    rayon=propagation(rayon,dz*i)"
   ]
  },
  {
   "cell_type": "markdown",
   "metadata": {},
   "source": [
    "# Affichage"
   ]
  },
  {
   "cell_type": "code",
   "execution_count": 145,
   "metadata": {},
   "outputs": [
    {
     "data": {
      "text/plain": [
       "(0, 100)"
      ]
     },
     "execution_count": 145,
     "metadata": {},
     "output_type": "execute_result"
    }
   ],
   "source": [
    "plot(x,linspace(0,L,N),label=\"Sans gradient d'indice\",color=\"black\",linestyle=\"--\")\n",
    "xlim(0,100) ; ylim(0,100)"
   ]
  },
  {
   "cell_type": "markdown",
   "metadata": {},
   "source": [
    "# Exemple de simulation :\n",
    "![Mirage.png](Mirage.png)"
   ]
  }
 ],
 "metadata": {
  "kernelspec": {
   "display_name": "Python 3",
   "language": "python",
   "name": "python3"
  },
  "language_info": {
   "codemirror_mode": {
    "name": "ipython",
    "version": 3
   },
   "file_extension": ".py",
   "mimetype": "text/x-python",
   "name": "python",
   "nbconvert_exporter": "python",
   "pygments_lexer": "ipython3",
   "version": "3.6.9"
  }
 },
 "nbformat": 4,
 "nbformat_minor": 4
}
