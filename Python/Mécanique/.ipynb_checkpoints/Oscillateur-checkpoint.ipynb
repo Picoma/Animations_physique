{
 "cells": [
  {
   "cell_type": "markdown",
   "metadata": {},
   "source": [
    "# Oscillateur amorti par frottement fluide"
   ]
  },
  {
   "cell_type": "code",
   "execution_count": 4,
   "metadata": {},
   "outputs": [
    {
     "name": "stdout",
     "output_type": "stream",
     "text": [
      "Using matplotlib backend: TkAgg\n",
      "Populating the interactive namespace from numpy and matplotlib\n"
     ]
    }
   ],
   "source": [
    "%pylab\n",
    "from scipy.integrate import odeint\n",
    "from ipywidgets import interact"
   ]
  },
  {
   "cell_type": "markdown",
   "metadata": {},
   "source": [
    "Equation différentielle : "
   ]
  },
  {
   "cell_type": "code",
   "execution_count": 2,
   "metadata": {},
   "outputs": [],
   "source": [
    "def X_prime(X, t, Q, w0):\n",
    "    \"\"\"Dérive le vecteur (x, dx/dt). Utilisé par odeint\"\"\"\n",
    "    x, v = X                            # Vecteur variable\n",
    "    dvdt = -w0/Q*v-w0**2*x              # Equa. diff. 2\n",
    "    dXdt = [v,dvdt]                     # Vecteur solution\n",
    "    return dXdt     "
   ]
  },
  {
   "cell_type": "markdown",
   "metadata": {},
   "source": [
    "Fonction cosmétique d'affichage :"
   ]
  },
  {
   "cell_type": "code",
   "execution_count": 6,
   "metadata": {},
   "outputs": [],
   "source": [
    "def cosmetique():\n",
    "    ## Général\n",
    "    suptitle('Oscillateur amorti par frottement fluide  ' + r'$\\ddot{x} + \\frac{\\omega_0}{Q}\\dot{x} + \\omega_0^2 x = 0$',fontsize=22)\n",
    "\n",
    "    ## Axe temporel\n",
    "    ax_temporel.set_title('Evolution temporelle',fontsize=16)\n",
    "    ax_temporel.set_xlabel(r'$t$', fontsize=20)\n",
    "    ax_temporel.set_ylabel(r'$x$', rotation=0, fontsize=20)\n",
    "    ax_temporel.set_xlim(0,10)\n",
    "    ax_temporel.set_ylim(-10,10)\n",
    "\n",
    "    ## Axe des phases\n",
    "    ax_phase.set_title('Portrait de phase',fontsize=16)\n",
    "    ax_phase.set_xlabel(r'$x$', fontsize=20)\n",
    "    ax_phase.set_ylabel(r'$\\frac{\\dot{x}}{\\omega_0}$', fontsize=20, rotation=0)\n",
    "    ax_phase.set_aspect(\"equal\")\n",
    "    ax_phase.set_xlim(-10,10)\n",
    "    ax_phase.set_ylim(-10,10)\n",
    "\n",
    "    ## Les deux\n",
    "    for ax in (ax_temporel, ax_phase):\n",
    "        ax.grid()"
   ]
  },
  {
   "cell_type": "markdown",
   "metadata": {},
   "source": [
    "Initiallisation de l'animation :"
   ]
  },
  {
   "cell_type": "code",
   "execution_count": 19,
   "metadata": {},
   "outputs": [],
   "source": [
    "#Figures\n",
    "fig, (ax_temporel, ax_phase)=subplots(1,2,figsize=(10, 7))\n",
    "\n",
    "# Temps d'intégration:\n",
    "t=linspace(0,100,500)"
   ]
  },
  {
   "cell_type": "markdown",
   "metadata": {},
   "source": [
    "Animation :"
   ]
  },
  {
   "cell_type": "code",
   "execution_count": 8,
   "metadata": {},
   "outputs": [
    {
     "data": {
      "application/vnd.jupyter.widget-view+json": {
       "model_id": "19e780d10a0a4ea19a0a91f81363df96",
       "version_major": 2,
       "version_minor": 0
      },
      "text/plain": [
       "interactive(children=(IntSlider(value=6, description='w0', max=18, min=-6), FloatSlider(value=1.0, description…"
      ]
     },
     "metadata": {},
     "output_type": "display_data"
    }
   ],
   "source": [
    "@interact(w0=6,\n",
    "          Q=(0,3,0.05),\n",
    "          x0=9,\n",
    "          v0=(0,10,1))\n",
    "def animation(w0,Q,x0,v0):\n",
    "    ax_temporel.clear()\n",
    "    ax_phase.clear()\n",
    "    \n",
    "    CI=array([x0,v0])\n",
    "    \n",
    "    # Résolution numérique \n",
    "    sol=odeint(X_prime,CI,t,args=(Q, w0))\n",
    "    X,V=sol.T # Récupère les deux colonnes du tableau solution \n",
    "    \n",
    "    # Tracés\n",
    "    label=r'$Q={}$'.format(Q)\n",
    "    ax_temporel.plot(t,X,label=label)\n",
    "    ax_phase.plot(X,V/w0,label=label)\n",
    "    \n",
    "    cosmetique()"
   ]
  },
  {
   "cell_type": "markdown",
   "metadata": {},
   "source": [
    "# Oscillateur anharmonique\n",
    "Source : Compo physique 2019 "
   ]
  },
  {
   "cell_type": "code",
   "execution_count": 52,
   "metadata": {},
   "outputs": [],
   "source": [
    "def X_prime(X, t, d, l0, w0):\n",
    "    \"\"\"Dérive le vecteur (x, dx/dt). Utilisé par odeint.\"\"\"\n",
    "    x, v = X                            # Vecteur variable\n",
    "    \n",
    "    F = -x*(1-l0/sqrt(x**2+d**2))\n",
    "    \n",
    "    dvdt = F*w0**2                      # Equa. diff. 2\n",
    "    dXdt = [v,dvdt]                     # Vecteur solution\n",
    "    return dXdt     "
   ]
  },
  {
   "cell_type": "markdown",
   "metadata": {},
   "source": [
    "Fonction cosmétique d'affichage :"
   ]
  },
  {
   "cell_type": "code",
   "execution_count": 53,
   "metadata": {},
   "outputs": [],
   "source": [
    "def cosmetique():\n",
    "    ## Général\n",
    "    suptitle('Oscillateur anharmonique bifurquant',fontsize=22)\n",
    "\n",
    "    ## Axe temporel\n",
    "    ax_temporel.set_title('Evolution temporelle',fontsize=16)\n",
    "    ax_temporel.set_xlabel(r'$t$', fontsize=20)\n",
    "    ax_temporel.set_ylabel(r'$x$', rotation=0, fontsize=20)\n",
    "    ax_temporel.set_xlim(0,20)\n",
    "    ax_temporel.set_ylim(-10,10)\n",
    "\n",
    "    ## Axe des phases\n",
    "    ax_phase.set_title('Portrait de phase',fontsize=16)\n",
    "    ax_phase.set_xlabel(r'$x$', fontsize=20)\n",
    "    ax_phase.set_ylabel(r'$\\frac{\\dot{x}}{\\omega_0}$', fontsize=20, rotation=0)\n",
    "    ax_phase.set_aspect(\"equal\")\n",
    "    ax_phase.set_xlim(-10,10)\n",
    "    ax_phase.set_ylim(-10,10)\n",
    "\n",
    "    ## Les deux\n",
    "    for ax in (ax_temporel, ax_phase):\n",
    "        ax.grid()"
   ]
  },
  {
   "cell_type": "markdown",
   "metadata": {},
   "source": [
    "Initiallisation de l'animation :"
   ]
  },
  {
   "cell_type": "code",
   "execution_count": 54,
   "metadata": {},
   "outputs": [],
   "source": [
    "#Figures\n",
    "fig, (ax_temporel, ax_phase)=subplots(1,2,figsize=(10, 7))\n",
    "\n",
    "# Temps d'intégration:\n",
    "t=linspace(0,10,500)\n",
    "line_phase=None"
   ]
  },
  {
   "cell_type": "markdown",
   "metadata": {},
   "source": [
    "Animation :"
   ]
  },
  {
   "cell_type": "code",
   "execution_count": 55,
   "metadata": {},
   "outputs": [
    {
     "data": {
      "application/vnd.jupyter.widget-view+json": {
       "model_id": "08c9d8b4756441edb0e0a1cae0de2b46",
       "version_major": 2,
       "version_minor": 0
      },
      "text/plain": [
       "interactive(children=(FloatSlider(value=5.0, description='d', max=10.0, step=0.5), FloatSlider(value=2.0, desc…"
      ]
     },
     "metadata": {},
     "output_type": "display_data"
    }
   ],
   "source": [
    "@interact(d=(0,10,0.5),\n",
    "          l0=(0,5,0.5),\n",
    "          w0=(0,10,1),\n",
    "          x0=9,\n",
    "          v0=(0,10,1))\n",
    "def animation(d,l0,w0,x0,v0):\n",
    "    ax_temporel.clear()\n",
    "    ax_phase.clear()\n",
    "    \n",
    "    CI=array([x0,v0])\n",
    "    \n",
    "    # Résolution numérique \n",
    "    sol=odeint(X_prime,CI,t,args=(d, l0, w0))\n",
    "    X,V=sol.T # Récupère les deux colonnes du tableau solution \n",
    "    \n",
    "    # Tracés\n",
    "    label=r'$d/l0={}$'.format(d/l0)\n",
    "    ax_temporel.plot(t,X,label=label)\n",
    "    ax_phase.plot(X,V/w0,label=label)\n",
    "    \n",
    "    cosmetique()"
   ]
  },
  {
   "cell_type": "code",
   "execution_count": null,
   "metadata": {},
   "outputs": [],
   "source": []
  }
 ],
 "metadata": {
  "kernelspec": {
   "display_name": "Python 3",
   "language": "python",
   "name": "python3"
  },
  "language_info": {
   "codemirror_mode": {
    "name": "ipython",
    "version": 3
   },
   "file_extension": ".py",
   "mimetype": "text/x-python",
   "name": "python",
   "nbconvert_exporter": "python",
   "pygments_lexer": "ipython3",
   "version": "3.6.9"
  }
 },
 "nbformat": 4,
 "nbformat_minor": 2
}
