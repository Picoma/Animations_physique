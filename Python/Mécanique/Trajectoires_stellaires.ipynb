{
 "cells": [
  {
   "cell_type": "code",
   "execution_count": 1,
   "metadata": {
    "slideshow": {
     "slide_type": "slide"
    }
   },
   "outputs": [
    {
     "name": "stdout",
     "output_type": "stream",
     "text": [
      "Populating the interactive namespace from numpy and matplotlib\n"
     ]
    }
   ],
   "source": [
    "%pylab inline\n",
    "from ipywidgets import interact\n",
    "import ipywidgets as widgets"
   ]
  },
  {
   "cell_type": "code",
   "execution_count": 4,
   "metadata": {
    "scrolled": false,
    "slideshow": {
     "slide_type": "slide"
    }
   },
   "outputs": [
    {
     "data": {
      "application/vnd.jupyter.widget-view+json": {
       "model_id": "d49e658333c247909ababadd630b667f",
       "version_major": 2,
       "version_minor": 0
      },
      "text/plain": [
       "interactive(children=(FloatSlider(value=1.0, description='p', max=10.0), FloatSlider(value=0.0, description='e…"
      ]
     },
     "metadata": {},
     "output_type": "display_data"
    }
   ],
   "source": [
    "@interact(p=widgets.FloatSlider(min=0, max=10, step=0.1, value=1),e=widgets.FloatSlider(min=0, max=2, step=0.01, value=0),circle=False,half_circle=False)\n",
    "def make_rep(p=1,e=0,circle=False,half_circle=False):\n",
    "    gcf().clear()\n",
    "    if half_circle:\n",
    "        theta=linspace(-0.5*pi,0.5*pi,1000)\n",
    "    else :\n",
    "        theta=linspace(-pi,pi,1000)\n",
    "    r=p/(e*cos(theta)+1)\n",
    "\n",
    "    x=r*cos(theta)\n",
    "    y=r*sin(theta)\n",
    "\n",
    "    plot(x,y)\n",
    "    axis('square')\n",
    "\n",
    "    if circle:\n",
    "        a=p/(1-e**2)\n",
    "        plot(p*cos(theta),p*sin(theta),'k')\n",
    "\n",
    "    axhline(0,color='black',linestyle='dashed',alpha=0.5)\n",
    "    axvline(0,color='black',linestyle='dashed',alpha=0.5)\n",
    "    \n",
    "    xlabel(\"x (u.a.)\") ; ylabel(\"y (u.a.)\") ;\n",
    "    title(\"e={}    p={}\".format(e,p))"
   ]
  },
  {
   "cell_type": "markdown",
   "metadata": {
    "slideshow": {
     "slide_type": "slide"
    }
   },
   "source": [
    "### 3) Discussion sur les paramètres \n",
    "\n",
    "|   Objet   | Mercure | Venus | Terre |  Mars | Jupiter | Saturne | Uranus | Neptune | \\| | Hale-Bopp |  Halley |\n",
    "|:---------:|:-------:|:-----:|:-----:|:-----:|:-------:|:-------:|:------:|:-------:|:--:|:---------:|:-------:|\n",
    "|     e     |  0.206  | 0.007 | 0.017 | 0.093 |  0.005  |  0.048  |  0.048 |  0.009  | \\| |   0.995   | 0.96727 |\n",
    "|   a (ua)  |  0.387  | 0.723 |   1   | 1.524 |  5.202  |  9.555  |  19.22 |  30.11  | \\| |\n",
    "| T (années)|  0.241  | 0.615 |   1   | 1.882 |  11.86  |  29.46  |  84.02 |  164.8  | \\| |           |         |\n",
    "\n",
    "\n",
    "\n",
    "**NB :** $1 \\text{ ua}= 149 597 870 700 \\text{ km}$"
   ]
  }
 ],
 "metadata": {
  "celltoolbar": "Aucun(e)",
  "kernelspec": {
   "display_name": "Python 3",
   "language": "python",
   "name": "python3"
  },
  "language_info": {
   "codemirror_mode": {
    "name": "ipython",
    "version": 3
   },
   "file_extension": ".py",
   "mimetype": "text/x-python",
   "name": "python",
   "nbconvert_exporter": "python",
   "pygments_lexer": "ipython3",
   "version": "3.6.9"
  }
 },
 "nbformat": 4,
 "nbformat_minor": 2
}
